{
 "cells": [
  {
   "cell_type": "code",
   "execution_count": null,
   "id": "9e692b13-4cd7-4c88-a5ab-9516f85ed8e2",
   "metadata": {},
   "outputs": [],
   "source": [
    "import numpy as np\n",
    "import matplotlib.pyplot as plt\n",
    "import healpy as hp\n",
    "import time\n",
    "import sys\n",
    "from pixell import enmap, enplot, reproject, utils, curvedsky \n",
    "from matplotlib import cm\n",
    "from scipy.optimize import curve_fit\n",
    "from scipy.linalg import sqrtm\n",
    "from scipy import constants\n",
    "from scipy import stats as sci_stats  \n",
    "import nawrapper as nw\n",
    "import math\n",
    "import csv \n",
    "\n",
    "path = \"/home/kw4043/project/Planck_cib_maps/\"\n",
    "path_beam = \"/home/kw4043/project/Planck_cib_maps/beams/BeamWf_HFI_R3/\"\n",
    "\n",
    "path_HI_857_40 = \"/home/kw4043/project/Planck_cib_maps/HI_maps/4.0e+20_gp40_857/\"\n",
    "\n",
    "##I'm gonna be using path_beam for the mcm's as well to separate from the previous notebooks\n",
    "\n",
    "def eshow(x,**kwargs): \n",
    "    ''' Define a function to help us plot the maps neatly '''\n",
    "    plots = enplot.get_plots(x, **kwargs)\n",
    "    enplot.show(plots, method = \"ipython\")\n",
    "    \n",
    "def shrink_mask(mask, r):\n",
    "    \"\"\"Shrink the True part of boolean mask \"mask\" by a distance of r radians\"\"\"\n",
    "    return mask.distance_transform(rmax=r) >= r\n",
    "\n",
    "def coth(x):\n",
    "    \"function returns value for hyperbolic cotangent\"\n",
    "    return 1/np.tanh(x)"
   ]
  },
  {
   "cell_type": "code",
   "execution_count": null,
   "id": "001223ed-e666-4135-996e-b4b7b7a57b3b",
   "metadata": {},
   "outputs": [],
   "source": [
    "#Creating the bins then converting our maps into namap_car objects\n",
    "bins = nw.create_binning(lmax=3000, lmin=2,\n",
    "                         widths=[15]*2 + [20]*3 + [25]*4 + [75]*2 + 1*[100] + 2*[150] + 11*[200],\n",
    "                         weight_function=(lambda ell : ell**2))\n",
    "#Our box for maps\n",
    "box = [[np.pi/2, -np.pi/2],[-np.pi, np.pi]]\n",
    "imap = curvedsky.make_projectable_map_by_pos(box, lmax=3000, dims=(), oversample=2.0, dtype=float, verbose=False)\n",
    "\n",
    "bl_y = hp.gauss_beam(np.radians(10/60), lmax = 3000)"
   ]
  },
  {
   "cell_type": "markdown",
   "id": "d8516d89-541f-4fca-945b-b5bc02ad26f4",
   "metadata": {},
   "source": [
    "### Loading in the beam files for HI maps"
   ]
  },
  {
   "cell_type": "code",
   "execution_count": null,
   "id": "56134283-0e2c-4372-b8ec-403e41e7a50b",
   "metadata": {},
   "outputs": [],
   "source": [
    "from astropy.io import ascii\n",
    "beam_HI_857_fn_40 = path_HI_857_40 + 'windowfunctions.csv'\n",
    "beam_HI_857_fn_40 = ascii.read(beam_HI_857_fn_40)\n",
    "beam_HI_857_40 = beam_HI_857_fn_40['Wl_eff']\n",
    "beam_HI_857_40 = np.array(beam_HI_857_40)\n",
    "print(beam_HI_857_40)"
   ]
  },
  {
   "cell_type": "markdown",
   "id": "d201caaf-391d-4253-8cba-e17a6fa9898f",
   "metadata": {},
   "source": [
    "### Using the deproj cib and the non-deproj Y maps"
   ]
  },
  {
   "cell_type": "code",
   "execution_count": null,
   "id": "73b81dfc-a1b4-4304-97ed-2c689075963c",
   "metadata": {},
   "outputs": [],
   "source": [
    "bl_ACT = hp.gauss_beam(np.radians(1.5/60), lmax = 3000)"
   ]
  },
  {
   "cell_type": "code",
   "execution_count": null,
   "id": "2f4e2c8b-c9d8-47c8-af38-072c7e239b6b",
   "metadata": {},
   "outputs": [],
   "source": [
    "ymap_fname_1 = path + \"ilc_SZ_TT_masked.fits\"\n",
    "ACT_Y_map_1 = enmap.read_map(ymap_fname_1)\n",
    "ACT_Y_map_1 = enmap.downgrade(ACT_Y_map_1, 4)"
   ]
  },
  {
   "cell_type": "code",
   "execution_count": null,
   "id": "e010fc34-099b-4187-9939-98dd3b29e007",
   "metadata": {},
   "outputs": [],
   "source": [
    "ymap_fname_2 = path + \"ilc_SZ_deproj_cib_TT_masked.fits\"\n",
    "ACT_Y_map_2_cib = enmap.read_map(ymap_fname_2)\n",
    "ACT_Y_map_2_cib = enmap.downgrade(ACT_Y_map_2_cib, 4)"
   ]
  },
  {
   "cell_type": "markdown",
   "id": "e4d006d3-914f-495f-9147-69b25b7550f9",
   "metadata": {},
   "source": [
    "### Reading in HI maps "
   ]
  },
  {
   "cell_type": "code",
   "execution_count": null,
   "id": "f184d397-7fbd-423b-a50b-6ef5459d815f",
   "metadata": {},
   "outputs": [],
   "source": [
    "pmap_fname_HI_857_40 = path_HI_857_40 + \"cib_fullmission.hpx.fits\"\n",
    "HI_857_map_40 = hp.read_map(pmap_fname_HI_857_40, field=0)\n",
    "\n",
    "#reading in the mask they used\n",
    "pmap_fname_HI_857_mask_40 = path_HI_857_40 + \"mask_bool.hpx.fits\"\n",
    "HI_857_mask_40 = hp.read_map(pmap_fname_HI_857_mask_40, field=0)"
   ]
  },
  {
   "cell_type": "code",
   "execution_count": null,
   "id": "8a3e2d6d-5277-45d0-900d-554a9e218a56",
   "metadata": {},
   "outputs": [],
   "source": [
    "#seeing if applying the mask works\n",
    "HI_857_map_with_mask_40 = HI_857_mask_40.copy()\n",
    "trial = np.where(HI_857_map_with_mask_40 == 1)\n",
    "HI_857_map_with_mask_40[trial] = HI_857_map_40[trial]"
   ]
  },
  {
   "cell_type": "code",
   "execution_count": null,
   "id": "2137fb43-087d-4b01-aa3b-12d7d26dcdc8",
   "metadata": {},
   "outputs": [],
   "source": [
    "HI_857_map_enmap_40 = reproject.enmap_from_healpix(HI_857_map_with_mask_40, ACT_Y_map_1.shape, ACT_Y_map_1.wcs,\n",
    "                                  ncomp=1, unit=1, lmax=3000,rot='gal,equ')\n",
    "\n",
    "HI_857_mask_enmap_40 = reproject.enmap_from_healpix(HI_857_mask_40, ACT_Y_map_1.shape, ACT_Y_map_1.wcs,\n",
    "                                  ncomp=1, unit=1, lmax=3000,rot='gal,equ')"
   ]
  },
  {
   "cell_type": "markdown",
   "id": "cc5b1c02-f475-49dc-88c5-5dbcba4c9542",
   "metadata": {
    "tags": []
   },
   "source": [
    "### Unit Conversions"
   ]
  },
  {
   "cell_type": "code",
   "execution_count": null,
   "id": "6ede4293",
   "metadata": {
    "tags": []
   },
   "outputs": [],
   "source": [
    "#Converting frequency maps from MJy/sr to Kelvin\n",
    "HI_857_map_enmap_40 = HI_857_map_enmap_40 / 2.27 \n",
    "\n",
    "#Converting frequency maps from Kelvin to Compton \n",
    "HI_857_map_enmap_40 = HI_857_map_enmap_40 * 0.0380"
   ]
  },
  {
   "cell_type": "markdown",
   "id": "c7ae9ad2-50fc-4134-a1b1-177de4b05738",
   "metadata": {
    "tags": []
   },
   "source": [
    "### Putting maps+mask into NaMaster"
   ]
  },
  {
   "cell_type": "code",
   "execution_count": null,
   "id": "2776f9bd",
   "metadata": {},
   "outputs": [],
   "source": [
    "#only with the least restrictive thresholded mask of 40e, just compare the relavent spectra\n",
    "Y_object_1_full = nw.namap_car(maps = (ACT_Y_map_1, None, None), masks = HI_857_mask_enmap_40[0], beams = bl_ACT)\n",
    "Y_object_2_cib = nw.namap_car(maps = (ACT_Y_map_2_cib, None, None), masks = HI_857_mask_enmap_40[0], beams = bl_ACT)"
   ]
  },
  {
   "cell_type": "code",
   "execution_count": null,
   "id": "40beb0a0",
   "metadata": {},
   "outputs": [],
   "source": [
    "cib_object_857_HI_map_40 = nw.namap_car(maps = (HI_857_map_enmap_40[0], None, None), masks = HI_857_mask_enmap_40[0], beams = beam_HI_857_40)"
   ]
  },
  {
   "cell_type": "code",
   "execution_count": null,
   "id": "8ddad123",
   "metadata": {},
   "outputs": [],
   "source": [
    "mc_full_40 = nw.mode_coupling(Y_object_1_full, cib_object_857_HI_map_40, bins = bins, mcm_dir = path_beam + 'mc_full_40', overwrite = True)\n",
    "mc_cib_40 = nw.mode_coupling(Y_object_2_cib, cib_object_857_HI_map_40, bins = bins, mcm_dir = path_beam + 'mc_cib_40', overwrite = True)\n",
    "\n",
    "mc_HI_auto_40 = nw.mode_coupling(cib_object_857_HI_map_40, cib_object_857_HI_map_40, bins = bins, mcm_dir = path_beam + 'mc_HI_auto_40', overwrite = True)\n",
    "\n",
    "mc_full_auto = nw.mode_coupling(Y_object_1_full, Y_object_1_full, bins = bins, mcm_dir = path_beam + 'mc_full_auto', overwrite = True)\n",
    "mc_cib_auto = nw.mode_coupling(Y_object_2_cib, Y_object_2_cib, bins = bins, mcm_dir = path_beam + 'mc_cib_auto', overwrite = True)"
   ]
  },
  {
   "cell_type": "code",
   "execution_count": null,
   "id": "dae04e73",
   "metadata": {},
   "outputs": [],
   "source": [
    "#cross spectra between the ACT Y maps and the HI_cleaned 857 GHz frequency map\n",
    "CB_857_full_40 = nw.compute_spectra(Y_object_1_full, cib_object_857_HI_map_40, mc=mc_full_40, lmax = 3000, bins = bins)\n",
    "CB_857_cib_40 = nw.compute_spectra(Y_object_2_cib, cib_object_857_HI_map_40, mc=mc_cib_40, lmax = 3000, bins = bins)"
   ]
  },
  {
   "cell_type": "code",
   "execution_count": null,
   "id": "da396d4d",
   "metadata": {},
   "outputs": [],
   "source": [
    "#autospectra for the purpose of calculating variance and error \n",
    "CB_857_auto_40 = nw.compute_spectra(cib_object_857_HI_map_40, cib_object_857_HI_map_40, mc=mc_HI_auto_40, lmax = 3000, bins = bins)"
   ]
  },
  {
   "cell_type": "code",
   "execution_count": null,
   "id": "9898b3d0-1720-4bef-adb0-3a4fffe64a77",
   "metadata": {},
   "outputs": [],
   "source": [
    "#for the purpose of errors\n",
    "CB_full_auto = nw.compute_spectra(Y_object_1_full, Y_object_1_full, mc=mc_full_auto, lmax = 3000, bins = bins)\n",
    "CB_cib_auto = nw.compute_spectra(Y_object_2_cib, Y_object_2_cib, mc=mc_cib_auto, lmax = 3000, bins = bins)"
   ]
  },
  {
   "cell_type": "code",
   "execution_count": null,
   "id": "3909baac-233d-4367-bba3-128ba5ccd9bf",
   "metadata": {},
   "outputs": [],
   "source": [
    "f_sky_40 = 0.33826835950215656\n",
    "\n",
    "bins_array = [15,15,20,20,20,25,25,25,25,75,75,100,150,150,200,200,200,200,200,200,200,200,200,200,200]\n",
    "\n",
    "var_857_full_40 = (CB_857_full_40['TT']*CB_857_full_40['TT'] + CB_full_auto['TT']*CB_857_auto_40['TT'])/((2*CB_857_full_40['ell']+1)*f_sky_40*bins_array)\n",
    "var_857_cib_40 = (CB_857_cib_40['TT']*CB_857_cib_40['TT'] + CB_cib_auto['TT']*CB_857_auto_40['TT'])/((2*CB_857_cib_40['ell']+1)*f_sky_40*bins_array)"
   ]
  }
 ],
 "metadata": {
  "kernelspec": {
   "display_name": "Python 3 (ipykernel)",
   "language": "python",
   "name": "python3"
  },
  "language_info": {
   "codemirror_mode": {
    "name": "ipython",
    "version": 3
   },
   "file_extension": ".py",
   "mimetype": "text/x-python",
   "name": "python",
   "nbconvert_exporter": "python",
   "pygments_lexer": "ipython3",
   "version": "3.8.3"
  }
 },
 "nbformat": 4,
 "nbformat_minor": 5
}
