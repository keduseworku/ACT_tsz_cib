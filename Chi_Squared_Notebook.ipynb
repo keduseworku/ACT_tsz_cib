{
 "cells": [
  {
   "cell_type": "code",
   "execution_count": null,
   "id": "9b25a161",
   "metadata": {},
   "outputs": [],
   "source": [
    "import numpy as np\n",
    "import matplotlib.pyplot as plt\n",
    "import healpy as hp\n",
    "import time\n",
    "import sys\n",
    "from pixell import enmap, enplot, reproject, utils, curvedsky \n",
    "from matplotlib import cm\n",
    "from scipy.optimize import curve_fit\n",
    "from scipy.linalg import sqrtm\n",
    "from scipy import constants\n",
    "from scipy import stats as sci_stats  \n",
    "import nawrapper as nw\n",
    "import math\n",
    "import csv \n",
    "\n",
    "path = \"/home/kw4043/project/Planck_cib_maps/\"\n",
    "path_beam = \"/home/kw4043/project/Planck_cib_maps/beams/BeamWf_HFI_R3/\"\n",
    "\n",
    "path_HI_857_40 = \"/home/kw4043/project/Planck_cib_maps/HI_maps/4.0e+20_gp40_857/\"\n",
    "\n",
    "##I'm gonna be using path_beam for the mcm's as well to separate from the previous notebooks\n",
    "\n",
    "def eshow(x,**kwargs): \n",
    "    ''' Define a function to help us plot the maps neatly '''\n",
    "    plots = enplot.get_plots(x, **kwargs)\n",
    "    enplot.show(plots, method = \"ipython\")\n",
    "    \n",
    "def shrink_mask(mask, r):\n",
    "    \"\"\"Shrink the True part of boolean mask \"mask\" by a distance of r radians\"\"\"\n",
    "    return mask.distance_transform(rmax=r) >= r\n",
    "\n",
    "def coth(x):\n",
    "    \"function returns value for hyperbolic cotangent\"\n",
    "    return 1/np.tanh(x)"
   ]
  },
  {
   "cell_type": "code",
   "execution_count": null,
   "id": "71a4637f",
   "metadata": {
    "tags": []
   },
   "outputs": [],
   "source": [
    "%run Spectra_Results_For_Chi_Squared.ipynb\n",
    "\n",
    "#relevant variables are CB_857_full_40 for the full ACT Y map, CB_857_cib_40 for the cib deprojected ACT Y map\n",
    "#var_857_full_40 is the variance for the full ACT Y map, and var_857_cib_40 is the variance for the cib deprojected ACT Y map"
   ]
  },
  {
   "cell_type": "code",
   "execution_count": null,
   "id": "42b8473e",
   "metadata": {},
   "outputs": [],
   "source": [
    "def template_indices_finder(CB_spectrum,template):\n",
    "    #assumes that CB_spectrum is produced through nawrapper and that the template is a 2D array with [ells,power] as the indices\n",
    "    template_ells = []\n",
    "    \n",
    "    for x in np.round(CB_spectrum['ell']):\n",
    "        intermediate = np.where(template[0] == x)[0]\n",
    "        template_ells.append(intermediate)\n",
    "        \n",
    "    template_ells = np.concatenate(template_ells)\n",
    "    return template_ells   "
   ]
  },
  {
   "cell_type": "code",
   "execution_count": null,
   "id": "a4cd0e34",
   "metadata": {},
   "outputs": [],
   "source": [
    "cib_SZ_template_array = path + 'SZ_template.txt'\n",
    "cib_SZ_template_array = np.loadtxt(cib_SZ_template_array, unpack = True)\n",
    "dell = (cib_SZ_template_array[0]*(cib_SZ_template_array[0] + 1))/(2*np.pi)\n",
    "cib_SZ_template_array[1] /= dell"
   ]
  },
  {
   "cell_type": "code",
   "execution_count": null,
   "id": "a637e02e",
   "metadata": {},
   "outputs": [],
   "source": [
    "total_template_ells = template_indices_finder(CB_857_full_40, cib_SZ_template_array)\n",
    "print(total_template_ells)"
   ]
  },
  {
   "cell_type": "code",
   "execution_count": null,
   "id": "dc5e42b2",
   "metadata": {},
   "outputs": [],
   "source": [
    "CB_857_full_40['ell']"
   ]
  },
  {
   "cell_type": "code",
   "execution_count": null,
   "id": "30c6a414",
   "metadata": {},
   "outputs": [],
   "source": [
    "def chi_values_finder(CB_spectrum, possible_amplitudes_array, template, corresponding_template_ell_indices, variance, lmin, lmax):\n",
    "    #I need to think more about units with this function. The amplitude can absorb the 1e12 factor, but it can't do the same with dell vs ell\n",
    "    #This returns an array of chi_squared values, one per each possible template amplitude\n",
    "    chi_values = []\n",
    "    \n",
    "    ell_mask = (CB_spectrum['ell'] >= lmin) & (CB_spectrum['ell'] <= lmax)\n",
    "    \n",
    "    for x in possible_amplitudes_array:\n",
    "        Amp = x\n",
    "        intermediate = ((CB_spectrum['TT'] - Amp*template[1][corresponding_template_ell_indices])**2)/(variance)\n",
    "        chi_values.append(sum(intermediate[ell_mask]))\n",
    "    \n",
    "    return chi_values, np.sum(ell_mask)"
   ]
  },
  {
   "cell_type": "code",
   "execution_count": null,
   "id": "5f140742",
   "metadata": {},
   "outputs": [],
   "source": [
    "possible_amplitudes = np.linspace(1e-10,1e-8,1000)\n",
    "chi_values, dof = chi_values_finder(CB_857_full_40, possible_amplitudes, cib_SZ_template_array, total_template_ells, var_857_full_40, 50, 1500)"
   ]
  },
  {
   "cell_type": "code",
   "execution_count": null,
   "id": "b2e5e111",
   "metadata": {},
   "outputs": [],
   "source": [
    "plt.plot(possible_amplitudes,chi_values)\n",
    "plt.xscale('log')\n",
    "plt.yscale('log')"
   ]
  },
  {
   "cell_type": "code",
   "execution_count": null,
   "id": "fd863996",
   "metadata": {},
   "outputs": [],
   "source": [
    "def minimized_chi_squared(chi_values_array, possible_amplitudes_array):\n",
    "    #This function takes the long array of chi_squared values, one per each possible template amplitude, and finds the minimum chi_value\n",
    "    #returning the corresponding minimized amplitude. It also returns a plot to show this minimization\n",
    "    chi_values = np.array(chi_values_array)\n",
    "    chi_min_index = np.where(chi_values == np.amin(chi_values))[0][0]\n",
    "    minimized_amplitude = possible_amplitudes_array[chi_min_index]\n",
    "    \n",
    "    return minimized_amplitude, chi_values[chi_min_index]"
   ]
  },
  {
   "cell_type": "code",
   "execution_count": null,
   "id": "c8ecdfd1",
   "metadata": {},
   "outputs": [],
   "source": [
    "min_amp, min_chi = minimized_chi_squared(chi_values, possible_amplitudes)\n",
    "print(min_amp, min_chi)\n",
    "reduced_chi = min_chi / dof\n",
    "print(reduced_chi)"
   ]
  },
  {
   "cell_type": "code",
   "execution_count": null,
   "id": "7c92f622",
   "metadata": {},
   "outputs": [],
   "source": [
    "from scipy import stats\n",
    "print(dof)\n",
    "1 - stats.chi2.cdf(min_chi, dof)"
   ]
  },
  {
   "cell_type": "code",
   "execution_count": null,
   "id": "11a015f5",
   "metadata": {},
   "outputs": [],
   "source": [
    "fig, ax  = plt.subplots(dpi=300)\n",
    "ax.plot(cib_SZ_template_array[0],(min_amp)*cib_SZ_template_array[1])\n",
    "ax.errorbar(CB_857_full_40['ell'],CB_857_full_40['TT'], yerr = var_857_full_40**0.5, ls = 'none', ms = 200)\n",
    "ax.set_yscale('log')\n",
    "ax.set_xlim(0,5000)\n",
    "ax.set_ylim(5e-16,2e-14)"
   ]
  },
  {
   "cell_type": "code",
   "execution_count": null,
   "id": "ea369990",
   "metadata": {},
   "outputs": [],
   "source": [
    "#I believe this cell doesnt do anything useful and not redundant, but I'll check\n",
    "#np.amin(chi_values)\n",
    "\n",
    "#chi_min = np.where(chi_values == np.amin(chi_values))\n",
    "#print(chi_min)\n",
    "\n",
    "#chi_values[0]"
   ]
  }
 ],
 "metadata": {
  "kernelspec": {
   "display_name": "Python 3 (ipykernel)",
   "language": "python",
   "name": "python3"
  },
  "language_info": {
   "codemirror_mode": {
    "name": "ipython",
    "version": 3
   },
   "file_extension": ".py",
   "mimetype": "text/x-python",
   "name": "python",
   "nbconvert_exporter": "python",
   "pygments_lexer": "ipython3",
   "version": "3.8.3"
  }
 },
 "nbformat": 4,
 "nbformat_minor": 5
}
