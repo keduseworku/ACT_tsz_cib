{
 "cells": [
  {
   "cell_type": "code",
   "execution_count": null,
   "id": "a0d4577b",
   "metadata": {},
   "outputs": [],
   "source": [
    "import numpy as np\n",
    "import matplotlib.pyplot as plt\n",
    "import healpy as hp\n",
    "import time\n",
    "import sys\n",
    "from pixell import enmap, enplot, reproject, utils, curvedsky \n",
    "from matplotlib import cm\n",
    "from scipy.optimize import curve_fit\n",
    "from scipy.linalg import sqrtm\n",
    "from scipy import constants\n",
    "from scipy import stats as sci_stats  \n",
    "import nawrapper as nw\n",
    "import math\n",
    "import csv \n",
    "\n",
    "path = \"/home/kw4043/project/Planck_cib_maps/\"\n",
    "path_beam = \"/home/kw4043/project/Planck_cib_maps/beams/BeamWf_HFI_R3/\"\n",
    "\n",
    "path_HI_857_40 = \"/home/kw4043/project/Planck_cib_maps/HI_maps/4.0e+20_gp40_857/\"\n",
    "path_HI_545_40 = \"/home/kw4043/project/Planck_cib_maps/HI_maps/4.0e+20_gp40_545/\"\n",
    "path_HI_353_40 = \"/home/kw4043/project/Planck_cib_maps/HI_maps/4.0e+20_gp40_353/\"\n",
    "\n",
    "##I'm gonna be using path_beam for the mcm's as well to separate from the previous notebooks\n",
    "\n",
    "def eshow(x,**kwargs): \n",
    "    ''' Define a function to help us plot the maps neatly '''\n",
    "    plots = enplot.get_plots(x, **kwargs)\n",
    "    enplot.show(plots, method = \"ipython\")\n",
    "    \n",
    "def shrink_mask(mask, r):\n",
    "    \"\"\"Shrink the True part of boolean mask \"mask\" by a distance of r radians\"\"\"\n",
    "    return mask.distance_transform(rmax=r) >= r\n",
    "\n",
    "def coth(x):\n",
    "    \"function returns value for hyperbolic cotangent\"\n",
    "    return 1/np.tanh(x)"
   ]
  },
  {
   "cell_type": "code",
   "execution_count": null,
   "id": "d5d74103",
   "metadata": {},
   "outputs": [],
   "source": [
    "#Creating the bins then converting our maps into namap_car objects\n",
    "bins = nw.create_binning(lmax=2000, lmin=2,\n",
    "                         widths=[15]*2 + [20]*3 + [25]*4 + [75]*2 + 1*[100] + 2*[150] + 1*[250] + 2*[400],\n",
    "                         weight_function=(lambda ell : ell**2))\n",
    "#Our box for maps\n",
    "box = [[np.pi/2, -np.pi/2],[-np.pi, np.pi]]\n",
    "imap = curvedsky.make_projectable_map_by_pos(box, lmax=2000, dims=(), oversample=2.0, dtype=float, verbose=False)\n",
    "\n",
    "bl_y = hp.gauss_beam(np.radians(10/60), lmax = 2000)"
   ]
  },
  {
   "cell_type": "markdown",
   "id": "85f3c744",
   "metadata": {},
   "source": [
    "### Loading in the beam files for original planck maps"
   ]
  },
  {
   "cell_type": "code",
   "execution_count": null,
   "id": "3a65c70b",
   "metadata": {},
   "outputs": [],
   "source": [
    "from astropy.io import fits\n",
    "beam_test_fname_353 = path_beam + 'Bl_T_R3.01_fullsky_353px353p.fits'\n",
    "beam_test_fname_545 = path_beam + 'Bl_T_R3.01_fullsky_545x545.fits'\n",
    "beam_test_fname_857 = path_beam + 'Bl_T_R3.01_fullsky_857x857.fits'"
   ]
  },
  {
   "cell_type": "code",
   "execution_count": null,
   "id": "1a6d166b",
   "metadata": {},
   "outputs": [],
   "source": [
    "with fits.open(beam_test_fname_353) as hdul_353:\n",
    "    b_ell_353 = hdul_353[1].data['TEMPERATURE']\n",
    "        \n",
    "with fits.open(beam_test_fname_545) as hdul_545:\n",
    "    b_ell_545 = hdul_545[1].data['TEMPERATURE']\n",
    "    \n",
    "with fits.open(beam_test_fname_857) as hdul_857:\n",
    "    b_ell_857 = hdul_857[1].data['TEMPERATURE']"
   ]
  },
  {
   "cell_type": "code",
   "execution_count": null,
   "id": "ce16effc",
   "metadata": {},
   "outputs": [],
   "source": [
    "b_ell_353 = b_ell_353.copy()[0:2001]\n",
    "b_ell_545 = b_ell_545.copy()[0:2001]\n",
    "b_ell_857 = b_ell_857.copy()[0:2001]"
   ]
  },
  {
   "cell_type": "code",
   "execution_count": null,
   "id": "cefe7df1",
   "metadata": {},
   "outputs": [],
   "source": [
    "plt.plot(b_ell_545)"
   ]
  },
  {
   "cell_type": "markdown",
   "id": "f06716db",
   "metadata": {},
   "source": [
    "### Loading in the beam files for HI maps"
   ]
  },
  {
   "cell_type": "code",
   "execution_count": null,
   "id": "310dd52c",
   "metadata": {},
   "outputs": [],
   "source": [
    "from astropy.io import ascii\n",
    "beam_HI_857_fn_40 = path_HI_857_40 + 'windowfunctions.csv'\n",
    "beam_HI_857_fn_40 = ascii.read(beam_HI_857_fn_40)\n",
    "beam_HI_857_40 = beam_HI_857_fn_40['Wl_eff']\n",
    "beam_HI_857_40 = np.array(beam_HI_857_40)\n",
    "print(beam_HI_857_40)"
   ]
  },
  {
   "cell_type": "markdown",
   "id": "d066517c",
   "metadata": {},
   "source": [
    "### Reading in HI maps "
   ]
  },
  {
   "cell_type": "code",
   "execution_count": null,
   "id": "6203d1d0",
   "metadata": {},
   "outputs": [],
   "source": [
    "#old planck files\n",
    "pmap_fname_HI_857_40 = path_HI_857_40 + \"cib_fullmission.hpx.fits\"\n",
    "HI_857_map_40 = hp.read_map(pmap_fname_HI_857_40, field=0)"
   ]
  },
  {
   "cell_type": "code",
   "execution_count": null,
   "id": "2e25773c",
   "metadata": {},
   "outputs": [],
   "source": [
    "#reading in the mask they used\n",
    "pmap_fname_HI_857_mask_40 = path_HI_857_40 + \"mask_bool.hpx.fits\"\n",
    "HI_857_mask_40 = hp.read_map(pmap_fname_HI_857_mask_40, field=0)"
   ]
  },
  {
   "cell_type": "code",
   "execution_count": null,
   "id": "6ed073fb",
   "metadata": {},
   "outputs": [],
   "source": [
    "#changing the NaN values to the values in the nonmasked portions of the map\n",
    "HI_857_map_with_mask_40 = HI_857_mask_40.copy()\n",
    "trial = np.where(HI_857_map_with_mask_40 == 1)\n",
    "HI_857_map_with_mask_40[trial] = HI_857_map_40[trial]"
   ]
  },
  {
   "cell_type": "code",
   "execution_count": null,
   "id": "3d756b67",
   "metadata": {},
   "outputs": [],
   "source": [
    "HI_857_map_enmap_40 = reproject.enmap_from_healpix(HI_857_map_with_mask_40, imap.shape, imap.wcs,\n",
    "                                  ncomp=1, unit=1, lmax=2000,rot='gal,equ')"
   ]
  },
  {
   "cell_type": "code",
   "execution_count": null,
   "id": "7801541f",
   "metadata": {},
   "outputs": [],
   "source": [
    "#old planck files\n",
    "pmap_fname_HI_545_40 = path_HI_545_40 + \"cib_fullmission.hpx.fits\"\n",
    "HI_545_map_40 = hp.read_map(pmap_fname_HI_545_40, field=0)"
   ]
  },
  {
   "cell_type": "code",
   "execution_count": null,
   "id": "627a977e",
   "metadata": {},
   "outputs": [],
   "source": [
    "#reading in the mask they used\n",
    "pmap_fname_HI_545_mask_40 = path_HI_545_40 + \"mask_bool.hpx.fits\"\n",
    "HI_545_mask_40 = hp.read_map(pmap_fname_HI_545_mask_40, field=0)"
   ]
  },
  {
   "cell_type": "code",
   "execution_count": null,
   "id": "39dce391",
   "metadata": {},
   "outputs": [],
   "source": [
    "#changing the NaN values to the values in the nonmasked portions of the map\n",
    "HI_545_map_with_mask_40 = HI_545_mask_40.copy()\n",
    "trial = np.where(HI_545_map_with_mask_40 == 1)\n",
    "HI_545_map_with_mask_40[trial] = HI_545_map_40[trial]"
   ]
  },
  {
   "cell_type": "code",
   "execution_count": null,
   "id": "e1cc14ba",
   "metadata": {},
   "outputs": [],
   "source": [
    "HI_545_map_enmap_40 = reproject.enmap_from_healpix(HI_545_map_with_mask_40, imap.shape, imap.wcs,\n",
    "                                  ncomp=1, unit=1, lmax=2000,rot='gal,equ')"
   ]
  },
  {
   "cell_type": "code",
   "execution_count": null,
   "id": "4290140f",
   "metadata": {},
   "outputs": [],
   "source": [
    "#old planck files\n",
    "pmap_fname_HI_353_40 = path_HI_353_40 + \"cib_fullmission.hpx.fits\"\n",
    "HI_353_map_40 = hp.read_map(pmap_fname_HI_353_40, field=0)"
   ]
  },
  {
   "cell_type": "code",
   "execution_count": null,
   "id": "c6697ac2",
   "metadata": {},
   "outputs": [],
   "source": [
    "#reading in the mask they used\n",
    "pmap_fname_HI_353_mask_40 = path_HI_353_40 + \"mask_bool.hpx.fits\"\n",
    "HI_353_mask_40 = hp.read_map(pmap_fname_HI_353_mask_40, field=0)"
   ]
  },
  {
   "cell_type": "code",
   "execution_count": null,
   "id": "8b881488",
   "metadata": {},
   "outputs": [],
   "source": [
    "#changing the NaN values to the values in the nonmasked portions of the map\n",
    "HI_353_map_with_mask_40 = HI_353_mask_40.copy()\n",
    "trial = np.where(HI_353_map_with_mask_40 == 1)\n",
    "HI_353_map_with_mask_40[trial] = HI_353_map_40[trial]"
   ]
  },
  {
   "cell_type": "code",
   "execution_count": null,
   "id": "eac5eddd",
   "metadata": {},
   "outputs": [],
   "source": [
    "HI_353_map_enmap_40 = reproject.enmap_from_healpix(HI_353_map_with_mask_40, imap.shape, imap.wcs,\n",
    "                                  ncomp=1, unit=1, lmax=2000,rot='gal,equ')"
   ]
  },
  {
   "cell_type": "markdown",
   "id": "075d7152",
   "metadata": {
    "tags": []
   },
   "source": [
    "### Reading in planck maps"
   ]
  },
  {
   "cell_type": "code",
   "execution_count": null,
   "id": "546e54ef",
   "metadata": {},
   "outputs": [],
   "source": [
    "#this is our Y map\n",
    "pmap_fname_MILCA = path + \"COM_CompMap_Compton-SZMap-milca-ymaps_2048_R2.00.fits\"\n",
    "MILCA_Y_map = hp.read_map(pmap_fname_MILCA, field=0)\n",
    "\n",
    "MILCA_Y_map_enmap = reproject.enmap_from_healpix(MILCA_Y_map, imap.shape, imap.wcs,\n",
    "                                  ncomp=1, unit=1, lmax=2000,rot='gal,equ')"
   ]
  },
  {
   "cell_type": "code",
   "execution_count": null,
   "id": "bbef2339",
   "metadata": {},
   "outputs": [],
   "source": [
    "pmap_fname_857 = path + \"HFI_SkyMap_857_2048_R2.00_full.fits\"\n",
    "cib_map_857 = hp.read_map(pmap_fname_857, field=0)\n",
    "\n",
    "cib_map_857_enmap = reproject.enmap_from_healpix(cib_map_857, imap.shape, imap.wcs,\n",
    "                                  ncomp=1, unit=1, lmax=2000,rot='gal,equ')"
   ]
  },
  {
   "cell_type": "code",
   "execution_count": null,
   "id": "fa4a815f",
   "metadata": {},
   "outputs": [],
   "source": [
    "pmap_fname_545 = path + \"HFI_SkyMap_545_2048_R2.00_full.fits\"\n",
    "cib_map_545 = hp.read_map(pmap_fname_545, field=0)\n",
    "\n",
    "cib_map_545_enmap = reproject.enmap_from_healpix(cib_map_545, imap.shape, imap.wcs,\n",
    "                                  ncomp=1, unit=1, lmax=2000,rot='gal,equ')"
   ]
  },
  {
   "cell_type": "code",
   "execution_count": null,
   "id": "99f1227e",
   "metadata": {},
   "outputs": [],
   "source": [
    "pmap_fname_353 = path + \"HFI_SkyMap_353_2048_R2.00_full.fits\"\n",
    "cib_map_353 = hp.read_map(pmap_fname_353, field=0)\n",
    "\n",
    "cib_map_353_enmap = reproject.enmap_from_healpix(cib_map_353, imap.shape, imap.wcs,\n",
    "                                  ncomp=1, unit=1, lmax=2000,rot='gal,equ')"
   ]
  },
  {
   "cell_type": "code",
   "execution_count": null,
   "id": "a7ad13bc",
   "metadata": {},
   "outputs": [],
   "source": [
    "HI_857_mask_enmap_40 = reproject.enmap_from_healpix(HI_857_mask_40, imap.shape, imap.wcs,\n",
    "                                  ncomp=1, unit=1, lmax=2000,rot='gal,equ')"
   ]
  },
  {
   "cell_type": "markdown",
   "id": "d7d845f7",
   "metadata": {},
   "source": [
    "### Unit Conversions for both healpix and enmap"
   ]
  },
  {
   "cell_type": "code",
   "execution_count": null,
   "id": "4a097b19",
   "metadata": {},
   "outputs": [],
   "source": [
    "#Converting frequency maps from MJy/sr to Kelvin\n",
    "cib_map_857_enmap = cib_map_857_enmap / 2.27 \n",
    "HI_857_map_enmap_40 = HI_857_map_enmap_40 / 2.27 \n",
    "\n",
    "cib_map_545_enmap = cib_map_545_enmap / 58.04\n",
    "HI_545_map_enmap_40 = HI_545_map_enmap_40 / 58.04\n",
    "\n",
    "HI_353_map_enmap_40 = HI_353_map_enmap_40 / 287.450"
   ]
  },
  {
   "cell_type": "code",
   "execution_count": null,
   "id": "42a720b8",
   "metadata": {},
   "outputs": [],
   "source": [
    "#Converting frequency maps from Kelvin to Compton \n",
    "cib_map_857_enmap = cib_map_857_enmap * 0.0380\n",
    "HI_857_map_enmap_40 = HI_857_map_enmap_40 * 0.0380\n",
    "\n",
    "cib_map_545_enmap = cib_map_545_enmap * 0.06918\n",
    "HI_545_map_enmap_40 = HI_545_map_enmap_40 * 0.06918\n",
    "\n",
    "cib_map_353_enmap = cib_map_353_enmap * 0.161098\n",
    "HI_353_map_enmap_40 = HI_353_map_enmap_40 * 0.161098"
   ]
  },
  {
   "cell_type": "markdown",
   "id": "f0b498b1",
   "metadata": {
    "tags": []
   },
   "source": [
    "### Putting maps+mask into NaMaster"
   ]
  },
  {
   "cell_type": "code",
   "execution_count": null,
   "id": "4bdbaf54",
   "metadata": {
    "tags": []
   },
   "outputs": [],
   "source": [
    "MILCA_Y_object_HI_mask_40 = nw.namap_car(maps = (MILCA_Y_map_enmap[0], None, None), masks = HI_857_mask_enmap_40[0], beams = bl_y)"
   ]
  },
  {
   "cell_type": "code",
   "execution_count": null,
   "id": "64297dc5",
   "metadata": {},
   "outputs": [],
   "source": [
    "cib_object_857_HI_map_40 = nw.namap_car(maps = (HI_857_map_enmap_40[0], None, None), masks = HI_857_mask_enmap_40[0], beams = beam_HI_857_40)\n",
    "cib_object_545_HI_map_40 = nw.namap_car(maps = (HI_545_map_enmap_40[0], None, None), masks = HI_857_mask_enmap_40[0], beams = beam_HI_857_40)\n",
    "cib_object_353_HI_map_40 = nw.namap_car(maps = (HI_353_map_enmap_40[0], None, None), masks = HI_857_mask_enmap_40[0], beams = beam_HI_857_40)"
   ]
  },
  {
   "cell_type": "code",
   "execution_count": null,
   "id": "f04488d5",
   "metadata": {},
   "outputs": [],
   "source": [
    "cib_object_857_planck_40 = nw.namap_car(maps = (cib_map_857_enmap[0], None, None), masks = HI_857_mask_enmap_40[0], beams = b_ell_857)\n",
    "cib_object_545_planck_40 = nw.namap_car(maps = (cib_map_545_enmap[0], None, None), masks = HI_857_mask_enmap_40[0], beams = b_ell_545)\n",
    "cib_object_353_planck_40 = nw.namap_car(maps = (cib_map_353_enmap[0], None, None), masks = HI_857_mask_enmap_40[0], beams = b_ell_353)"
   ]
  },
  {
   "cell_type": "code",
   "execution_count": null,
   "id": "7a90ef1d",
   "metadata": {},
   "outputs": [],
   "source": [
    "mc_planck_40 = nw.mode_coupling(MILCA_Y_object_HI_mask_40, cib_object_857_planck_40, bins = bins, mcm_dir = path_beam + 'mc_planck_40', overwrite = True)\n",
    "mc_HI_40 = nw.mode_coupling(MILCA_Y_object_HI_mask_40, cib_object_857_HI_map_40, bins = bins, mcm_dir = path_beam + 'mc_HI_40', overwrite = True)"
   ]
  },
  {
   "cell_type": "code",
   "execution_count": null,
   "id": "aa51ef06",
   "metadata": {},
   "outputs": [],
   "source": [
    "mc_planck_40_auto = nw.mode_coupling(cib_object_857_planck_40, cib_object_857_planck_40, bins = bins, mcm_dir = path_beam + 'mc_planck_40_auto', overwrite = True)\n",
    "mc_40_MILCA_auto = nw.mode_coupling(MILCA_Y_object_HI_mask_40, MILCA_Y_object_HI_mask_40, bins = bins, mcm_dir = path_beam + 'mc_40_MILCA_auto', overwrite = True)\n",
    "mc_HI_40_auto = nw.mode_coupling(cib_object_857_HI_map_40, cib_object_857_HI_map_40, bins = bins, mcm_dir = path_beam + 'mc_HI_40_auto', overwrite = True)"
   ]
  },
  {
   "cell_type": "code",
   "execution_count": null,
   "id": "985b605a",
   "metadata": {},
   "outputs": [],
   "source": [
    "CB_353_planck_40 = nw.compute_spectra(MILCA_Y_object_HI_mask_40, cib_object_353_planck_40, mc=mc_planck_40, lmax = 2000, bins = bins)\n",
    "CB_545_planck_40 = nw.compute_spectra(MILCA_Y_object_HI_mask_40, cib_object_545_planck_40, mc=mc_planck_40, lmax = 2000, bins = bins)\n",
    "CB_857_planck_40 = nw.compute_spectra(MILCA_Y_object_HI_mask_40, cib_object_857_planck_40, mc=mc_planck_40, lmax = 2000, bins = bins)"
   ]
  },
  {
   "cell_type": "code",
   "execution_count": null,
   "id": "9e478bf3",
   "metadata": {},
   "outputs": [],
   "source": [
    "CB_353_HI_40 = nw.compute_spectra(MILCA_Y_object_HI_mask_40, cib_object_353_HI_map_40, mc=mc_HI_40, lmax = 2000, bins = bins)\n",
    "CB_545_HI_40 = nw.compute_spectra(MILCA_Y_object_HI_mask_40, cib_object_545_HI_map_40, mc=mc_HI_40, lmax = 2000, bins = bins)\n",
    "CB_857_HI_40 = nw.compute_spectra(MILCA_Y_object_HI_mask_40, cib_object_857_HI_map_40, mc=mc_HI_40, lmax = 2000, bins = bins)"
   ]
  },
  {
   "cell_type": "code",
   "execution_count": null,
   "id": "9280a589",
   "metadata": {},
   "outputs": [],
   "source": [
    "CB_353_planck_40_auto = nw.compute_spectra(cib_object_353_planck_40, cib_object_353_planck_40, mc=mc_planck_40_auto, lmax = 2000, bins = bins)\n",
    "CB_545_planck_40_auto = nw.compute_spectra(cib_object_545_planck_40, cib_object_545_planck_40, mc=mc_planck_40_auto, lmax = 2000, bins = bins)\n",
    "CB_857_planck_40_auto = nw.compute_spectra(cib_object_857_planck_40, cib_object_857_planck_40, mc=mc_planck_40_auto, lmax = 2000, bins = bins)\n",
    "\n",
    "CB_353_HI_40_auto = nw.compute_spectra(cib_object_353_HI_map_40, cib_object_353_HI_map_40, mc=mc_HI_40_auto, lmax = 2000, bins = bins)\n",
    "CB_545_HI_40_auto = nw.compute_spectra(cib_object_545_HI_map_40, cib_object_545_HI_map_40, mc=mc_HI_40_auto, lmax = 2000, bins = bins)\n",
    "CB_857_HI_40_auto = nw.compute_spectra(cib_object_857_HI_map_40, cib_object_857_HI_map_40, mc=mc_HI_40_auto, lmax = 2000, bins = bins)\n",
    "\n",
    "CB_40_MILCA_auto = nw.compute_spectra(MILCA_Y_object_HI_mask_40, MILCA_Y_object_HI_mask_40, mc=mc_40_MILCA_auto, lmax = 2000, bins = bins)"
   ]
  },
  {
   "cell_type": "code",
   "execution_count": null,
   "id": "afabc6d9",
   "metadata": {},
   "outputs": [],
   "source": [
    "f_sky_40 = 0.33826835950215656\n",
    "\n",
    "bins_array = [15,15,20,20,20,25,25,25,25,75,75,100,150,150,250,400,400]"
   ]
  },
  {
   "cell_type": "code",
   "execution_count": null,
   "id": "cd29d3a8",
   "metadata": {},
   "outputs": [],
   "source": [
    "yerr_857_planck_40 = (CB_857_planck_40['TT']*CB_857_planck_40['TT'] + CB_40_MILCA_auto['TT']*CB_857_planck_40_auto['TT'])/((2*CB_857_planck_40['ell']+1)*f_sky_40*bins_array)\n",
    "yerr_545_planck_40 = (CB_545_planck_40['TT']*CB_545_planck_40['TT'] + CB_40_MILCA_auto['TT']*CB_545_planck_40_auto['TT'])/((2*CB_545_planck_40['ell']+1)*f_sky_40*bins_array)\n",
    "yerr_353_planck_40 = (CB_353_planck_40['TT']*CB_353_planck_40['TT'] + CB_40_MILCA_auto['TT']*CB_353_planck_40_auto['TT'])/((2*CB_353_planck_40['ell']+1)*f_sky_40*bins_array)"
   ]
  },
  {
   "cell_type": "code",
   "execution_count": null,
   "id": "7c760626",
   "metadata": {},
   "outputs": [],
   "source": [
    "yerr_857_HI_40 = (CB_857_HI_40['TT']*CB_857_HI_40['TT'] + CB_40_MILCA_auto['TT']*CB_857_HI_40_auto['TT'])/((2*CB_857_HI_40['ell']+1)*f_sky_40*bins_array)\n",
    "yerr_545_HI_40 = (CB_545_HI_40['TT']*CB_545_HI_40['TT'] + CB_40_MILCA_auto['TT']*CB_545_HI_40_auto['TT'])/((2*CB_545_HI_40['ell']+1)*f_sky_40*bins_array)\n",
    "yerr_353_HI_40 = (CB_353_HI_40['TT']*CB_353_HI_40['TT'] + CB_40_MILCA_auto['TT']*CB_353_HI_40_auto['TT'])/((2*CB_353_HI_40['ell']+1)*f_sky_40*bins_array)"
   ]
  },
  {
   "cell_type": "code",
   "execution_count": null,
   "id": "a4f829a1",
   "metadata": {},
   "outputs": [],
   "source": [
    "ell_Planck = CB_857_HI_40['ell']\n",
    "dell_Planck =  ell_Planck*(ell_Planck+1)/(2*np.pi)\n",
    "\n",
    "yerr_857_planck_40 = (yerr_857_planck_40**0.5)*1e12*dell_Planck\n",
    "yerr_545_planck_40 = (yerr_545_planck_40**0.5)*1e12*dell_Planck\n",
    "yerr_353_planck_40 = (yerr_353_planck_40**0.5)*1e12*dell_Planck\n",
    "\n",
    "yerr_857_HI_40 = (yerr_857_HI_40**0.5)*1e12*dell_Planck\n",
    "yerr_545_HI_40 = (yerr_545_HI_40**0.5)*1e12*dell_Planck\n",
    "yerr_353_HI_40 = (yerr_353_HI_40**0.5)*1e12*dell_Planck"
   ]
  },
  {
   "cell_type": "code",
   "execution_count": null,
   "id": "0345d422",
   "metadata": {},
   "outputs": [],
   "source": [
    "ell_Planck = CB_857_HI_40['ell']\n",
    "dell_Planck =  ell_Planck*(ell_Planck+1)/(2*np.pi)\n",
    "fig, axes = plt.subplots(1,1, figsize=(10,6), sharex=True)\n",
    "\n",
    "#axes.scatter(ell_Planck,(CB_857_HI_40['TT']*dell_Planck*(1e12)), label = '4.0e HI Cleaned Map')\n",
    "#axes.scatter(ell_Planck,(CB_857_planck_40['TT']*dell_Planck*(1e12)), label = '4.0e Planck Frequency Map')\n",
    "\n",
    "axes.errorbar(ell_Planck,(CB_857_HI_40['TT']*dell_Planck*(1e12)), yerr= yerr_857_HI_40, label = '4.0e LIM-Cleaned maps',  ls = '', fmt = 'o', markersize = 3)\n",
    "axes.errorbar(ell_Planck,(CB_857_planck_40['TT']*dell_Planck*(1e12)), yerr= yerr_857_planck_40, label = '4.0e Planck maps',  ls = '', fmt = 'o', markersize = 3)\n",
    "\n",
    "axes.set_xlabel(r'$\\ell$', fontsize = 14)\n",
    "axes.set_ylabel(r'$\\ell(\\ell + 1)C_{\\ell}^{yT}/(2\\pi)$ [$10^{-12}$ sr]', fontsize = 14)\n",
    "#axes.set_ylabel(r'$C_{\\ell}^{yT}\\ell(\\ell + 1)/(2\\pi)$', fontsize = 14)\n",
    "#axes.set_ylim(1e-4,1e4)\n",
    "axes.set_yscale('log')\n",
    "axes.set_xscale('log')\n",
    "axes.tick_params(labelright=True, right = True)\n",
    "axes.set_title('MILCA Y map x 857 GHz Frequency Maps', fontsize = 14)\n",
    "plt.legend()"
   ]
  },
  {
   "cell_type": "code",
   "execution_count": null,
   "id": "9e52837d",
   "metadata": {},
   "outputs": [],
   "source": [
    "ell_Planck = CB_545_HI_40['ell']\n",
    "dell_Planck =  ell_Planck*(ell_Planck+1)/(2*np.pi)\n",
    "fig, axes = plt.subplots(1,1, figsize=(10,6), sharex=True)\n",
    "\n",
    "#axes.scatter(ell_Planck,(CB_545_HI_40['TT']*dell_Planck*(1e12)), label = '4.0e HI maps')\n",
    "#axes.scatter(ell_Planck,(CB_545_planck_40['TT']*dell_Planck*(1e12)), label = '4.0e Planck maps')\n",
    "\n",
    "axes.errorbar(ell_Planck,(CB_545_HI_40['TT']*dell_Planck*(1e12)), yerr= yerr_545_HI_40, label = '4.0e HI maps',  ls = '', fmt = 'o', markersize = 3)\n",
    "axes.errorbar(ell_Planck,(CB_545_planck_40['TT']*dell_Planck*(1e12)), yerr= yerr_545_planck_40, label = '4.0e Planck maps',  ls = '', fmt = 'o', markersize = 3)\n",
    "\n",
    "axes.set_xlabel(r'$\\ell$', fontsize = 14)\n",
    "axes.set_ylabel(r'$\\ell(\\ell + 1)C_{\\ell}^{yT}/(2\\pi)$ [$10^{-12}$ sr]', fontsize = 14)\n",
    "#axes.set_ylim(1e-4,1e4)\n",
    "axes.set_yscale('log')\n",
    "axes.set_xscale('log')\n",
    "axes.tick_params(labelright=True, right = True)\n",
    "axes.set_title('MILCA Y map x 545 GHz Frequency Maps', fontsize = 14)\n",
    "plt.legend()"
   ]
  },
  {
   "cell_type": "code",
   "execution_count": null,
   "id": "b02f18c5",
   "metadata": {},
   "outputs": [],
   "source": [
    "ell_Planck = CB_353_HI_40['ell']\n",
    "dell_Planck =  ell_Planck*(ell_Planck+1)/(2*np.pi)\n",
    "fig, axes = plt.subplots(1,1, figsize=(10,6), sharex=True)\n",
    "\n",
    "#axes.scatter(ell_Planck,(CB_353_HI_40['TT']*dell_Planck*(1e12)), label = '4.0e HI maps')\n",
    "#axes.scatter(ell_Planck,(CB_353_planck_40['TT']*dell_Planck*(1e12)), label = '4.0e Planck maps')\n",
    "\n",
    "axes.errorbar(ell_Planck,(CB_353_HI_40['TT']*dell_Planck*(1e12)), yerr= yerr_353_HI_40, label = '4.0e HI maps',  ls = '', fmt = 'o', markersize = 3)\n",
    "axes.errorbar(ell_Planck,(CB_353_planck_40['TT']*dell_Planck*(1e12)), yerr= yerr_353_planck_40, label = '4.0e Planck maps',  ls = '', fmt = 'o', markersize = 3)\n",
    "\n",
    "axes.set_xlabel(r'$\\ell$', fontsize = 14)\n",
    "axes.set_ylabel(r'$\\ell(\\ell + 1)C_{\\ell}^{yT}/(2\\pi)$ [$10^{-12}$ sr]', fontsize = 14)\n",
    "#axes.set_ylim(1e-4,1e4)\n",
    "axes.set_yscale('log')\n",
    "axes.set_xscale('log')\n",
    "axes.tick_params(labelright=True, right = True)\n",
    "axes.set_title('MILCA Y map x 353 GHz Frequency Maps', fontsize = 14)\n",
    "plt.legend()"
   ]
  },
  {
   "cell_type": "code",
   "execution_count": null,
   "id": "ddcf9a8c",
   "metadata": {},
   "outputs": [],
   "source": [
    "fig, axes = plt.subplots(1,1, figsize=(10,6), sharex=True)\n",
    "ell_Planck = CB_857_HI_40['ell']\n",
    "dell_Planck =  ell_Planck*(ell_Planck+1)/(2*np.pi)\n",
    "\n",
    "axes.scatter(ell_Planck,(CB_857_planck_40_auto['TT']*dell_Planck), label = '4.0e Planck map')\n",
    "axes.scatter(ell_Planck,(CB_857_HI_40_auto['TT']*dell_Planck), label = '4.0e HI map')\n",
    "\n",
    "axes.set_yscale('log')\n",
    "axes.set_xscale('log')\n",
    "axes.tick_params(labelright=True, right = True)\n",
    "axes.set_title('Autospectra of Frequency Maps', fontsize = 14)\n",
    "plt.legend()"
   ]
  }
 ],
 "metadata": {
  "kernelspec": {
   "display_name": "Python 3 (ipykernel)",
   "language": "python",
   "name": "python3"
  },
  "language_info": {
   "codemirror_mode": {
    "name": "ipython",
    "version": 3
   },
   "file_extension": ".py",
   "mimetype": "text/x-python",
   "name": "python",
   "nbconvert_exporter": "python",
   "pygments_lexer": "ipython3",
   "version": "3.8.3"
  }
 },
 "nbformat": 4,
 "nbformat_minor": 5
}
